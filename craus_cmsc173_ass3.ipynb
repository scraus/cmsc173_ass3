{
  "nbformat": 4,
  "nbformat_minor": 0,
  "metadata": {
    "colab": {
      "provenance": [],
      "authorship_tag": "ABX9TyO8x0bMcMOv+gbLKwYi2U/b",
      "include_colab_link": true
    },
    "kernelspec": {
      "name": "python3",
      "display_name": "Python 3"
    },
    "language_info": {
      "name": "python"
    }
  },
  "cells": [
    {
      "cell_type": "markdown",
      "metadata": {
        "id": "view-in-github",
        "colab_type": "text"
      },
      "source": [
        "<a href=\"https://colab.research.google.com/github/scraus/cmsc173_ass3/blob/main/craus_cmsc173_ass3.ipynb\" target=\"_parent\"><img src=\"https://colab.research.google.com/assets/colab-badge.svg\" alt=\"Open In Colab\"/></a>"
      ]
    },
    {
      "cell_type": "markdown",
      "source": [
        "**SHEILA MAE C. CRAUS BSCS IV-B**\n",
        "##### CMSC 173: Assignment 3 - Beyond Binary Classification\n",
        "---"
      ],
      "metadata": {
        "id": "mrpll4jeemhl"
      }
    },
    {
      "cell_type": "markdown",
      "source": [
        "In this topic, we will dive deeper into what it means to have an imbalanced dataset and multiclass classifier by performing the following:\n",
        "\n",
        "1. Create a notebook to show how to handle an Imbalanced dataset. [Here is a reference for you to read](https://www.justintodata.com/imbalanced-data-machine-learning-classification/#:~:text=Within%20it%2C%20we%20have%20imbalanced,is%20a%20highly%20imbalanced%20dataset). Just pick two, perform them in your notebook, and write your discussion.\n",
        "\n",
        "2. Choose a supervised ML that does multi-classification. Perform data cleaning, training, evaluation, and interpretation.\n",
        "\n",
        "\n",
        "---\n",
        "\n"
      ],
      "metadata": {
        "id": "48Of-nKUe7e9"
      }
    },
    {
      "cell_type": "markdown",
      "source": [
        "#**The Dataset**"
      ],
      "metadata": {
        "id": "BlBkH7-twlo0"
      }
    },
    {
      "cell_type": "markdown",
      "source": [
        "The Roads and Traffic Administration (RTA) dataset will be utilized for this assignment to perform both data balancing and multiclassification."
      ],
      "metadata": {
        "id": "376AB0FlxD7C"
      }
    },
    {
      "cell_type": "markdown",
      "source": [],
      "metadata": {
        "id": "Tn2YkFmExw17"
      }
    }
  ]
}